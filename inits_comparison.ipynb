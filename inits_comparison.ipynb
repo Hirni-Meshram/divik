{
 "cells": [
  {
   "cell_type": "code",
   "execution_count": 1,
   "metadata": {},
   "outputs": [],
   "source": [
    "from sklearn.datasets import make_blobs\n",
    "\n",
    "from divik.cluster._kmeans._initialization import PercentileInitialization, KDTreeInitialization"
   ]
  },
  {
   "cell_type": "code",
   "execution_count": 2,
   "metadata": {},
   "outputs": [],
   "source": [
    "def init(n_samples, n_features, initialize):\n",
    "    X, _ = make_blobs(n_samples=n_samples, n_features=n_features, centers=10, random_state=42)\n",
    "    initialize(X, 10)"
   ]
  },
  {
   "cell_type": "code",
   "execution_count": 3,
   "metadata": {},
   "outputs": [],
   "source": [
    "perc_corr = PercentileInitialization(distance='correlation')\n",
    "perc_euc = PercentileInitialization(distance='euclidean')\n",
    "kdtree_corr = KDTreeInitialization('correlation')\n",
    "kdtree_euc = KDTreeInitialization('euclidean')"
   ]
  },
  {
   "cell_type": "markdown",
   "metadata": {},
   "source": [
    "# Percentile Correlation"
   ]
  },
  {
   "cell_type": "code",
   "execution_count": 4,
   "metadata": {},
   "outputs": [
    {
     "name": "stdout",
     "output_type": "stream",
     "text": [
      "2.54 s ± 615 ms per loop (mean ± std. dev. of 7 runs, 1 loop each)\n"
     ]
    }
   ],
   "source": [
    "%timeit init(1_000, 5_000, perc_corr)"
   ]
  },
  {
   "cell_type": "code",
   "execution_count": 5,
   "metadata": {},
   "outputs": [
    {
     "name": "stdout",
     "output_type": "stream",
     "text": [
      "2.27 s ± 316 ms per loop (mean ± std. dev. of 7 runs, 1 loop each)\n"
     ]
    }
   ],
   "source": [
    "%timeit init(10_000, 1_000, perc_corr)"
   ]
  },
  {
   "cell_type": "code",
   "execution_count": 6,
   "metadata": {},
   "outputs": [
    {
     "name": "stdout",
     "output_type": "stream",
     "text": [
      "1.78 s ± 82.6 ms per loop (mean ± std. dev. of 7 runs, 1 loop each)\n"
     ]
    }
   ],
   "source": [
    "%timeit init(100_000, 100, perc_corr)"
   ]
  },
  {
   "cell_type": "code",
   "execution_count": 7,
   "metadata": {},
   "outputs": [
    {
     "name": "stdout",
     "output_type": "stream",
     "text": [
      "22.1 s ± 1.25 s per loop (mean ± std. dev. of 7 runs, 1 loop each)\n"
     ]
    }
   ],
   "source": [
    "%timeit init(1_000_000, 100, perc_corr)"
   ]
  },
  {
   "cell_type": "markdown",
   "metadata": {},
   "source": [
    "# Percentile Euclidean"
   ]
  },
  {
   "cell_type": "code",
   "execution_count": 8,
   "metadata": {},
   "outputs": [
    {
     "name": "stdout",
     "output_type": "stream",
     "text": [
      "1.77 s ± 312 ms per loop (mean ± std. dev. of 7 runs, 1 loop each)\n"
     ]
    }
   ],
   "source": [
    "%timeit init(1_000, 5_000, perc_euc)"
   ]
  },
  {
   "cell_type": "code",
   "execution_count": 9,
   "metadata": {},
   "outputs": [
    {
     "name": "stdout",
     "output_type": "stream",
     "text": [
      "2.09 s ± 250 ms per loop (mean ± std. dev. of 7 runs, 1 loop each)\n"
     ]
    }
   ],
   "source": [
    "%timeit init(10_000, 1_000, perc_euc)"
   ]
  },
  {
   "cell_type": "code",
   "execution_count": 10,
   "metadata": {},
   "outputs": [
    {
     "name": "stdout",
     "output_type": "stream",
     "text": [
      "1.44 s ± 58.9 ms per loop (mean ± std. dev. of 7 runs, 1 loop each)\n"
     ]
    }
   ],
   "source": [
    "%timeit init(100_000, 100, perc_euc)"
   ]
  },
  {
   "cell_type": "code",
   "execution_count": 11,
   "metadata": {},
   "outputs": [
    {
     "name": "stdout",
     "output_type": "stream",
     "text": [
      "21.1 s ± 1.88 s per loop (mean ± std. dev. of 7 runs, 1 loop each)\n"
     ]
    }
   ],
   "source": [
    "%timeit init(1_000_000, 100, perc_euc)"
   ]
  },
  {
   "cell_type": "markdown",
   "metadata": {},
   "source": [
    "# KDTree Correlation"
   ]
  },
  {
   "cell_type": "code",
   "execution_count": 12,
   "metadata": {},
   "outputs": [
    {
     "name": "stdout",
     "output_type": "stream",
     "text": [
      "558 ms ± 33.7 ms per loop (mean ± std. dev. of 7 runs, 1 loop each)\n"
     ]
    }
   ],
   "source": [
    "%timeit init(1_000, 5_000, kdtree_corr)"
   ]
  },
  {
   "cell_type": "code",
   "execution_count": 13,
   "metadata": {},
   "outputs": [
    {
     "name": "stdout",
     "output_type": "stream",
     "text": [
      "917 ms ± 65.2 ms per loop (mean ± std. dev. of 7 runs, 1 loop each)\n"
     ]
    }
   ],
   "source": [
    "%timeit init(10_000, 1_000, kdtree_corr)"
   ]
  },
  {
   "cell_type": "code",
   "execution_count": 14,
   "metadata": {},
   "outputs": [
    {
     "name": "stdout",
     "output_type": "stream",
     "text": [
      "873 ms ± 60.8 ms per loop (mean ± std. dev. of 7 runs, 1 loop each)\n"
     ]
    }
   ],
   "source": [
    "%timeit init(100_000, 100, kdtree_corr)"
   ]
  },
  {
   "cell_type": "code",
   "execution_count": 15,
   "metadata": {},
   "outputs": [
    {
     "name": "stdout",
     "output_type": "stream",
     "text": [
      "8.63 s ± 175 ms per loop (mean ± std. dev. of 7 runs, 1 loop each)\n"
     ]
    }
   ],
   "source": [
    "%timeit init(1_000_000, 100, kdtree_corr)"
   ]
  },
  {
   "cell_type": "markdown",
   "metadata": {},
   "source": [
    "# KDTree Euclidean"
   ]
  },
  {
   "cell_type": "code",
   "execution_count": 16,
   "metadata": {},
   "outputs": [
    {
     "name": "stdout",
     "output_type": "stream",
     "text": [
      "513 ms ± 40.5 ms per loop (mean ± std. dev. of 7 runs, 1 loop each)\n"
     ]
    }
   ],
   "source": [
    "%timeit init(1_000, 5_000, kdtree_euc)"
   ]
  },
  {
   "cell_type": "code",
   "execution_count": 17,
   "metadata": {},
   "outputs": [
    {
     "name": "stdout",
     "output_type": "stream",
     "text": [
      "970 ms ± 86.2 ms per loop (mean ± std. dev. of 7 runs, 1 loop each)\n"
     ]
    }
   ],
   "source": [
    "%timeit init(10_000, 1_000, kdtree_euc)"
   ]
  },
  {
   "cell_type": "code",
   "execution_count": 18,
   "metadata": {},
   "outputs": [
    {
     "name": "stdout",
     "output_type": "stream",
     "text": [
      "801 ms ± 27.5 ms per loop (mean ± std. dev. of 7 runs, 1 loop each)\n"
     ]
    }
   ],
   "source": [
    "%timeit init(100_000, 100, kdtree_euc)"
   ]
  },
  {
   "cell_type": "code",
   "execution_count": 19,
   "metadata": {},
   "outputs": [
    {
     "name": "stdout",
     "output_type": "stream",
     "text": [
      "8.43 s ± 68.2 ms per loop (mean ± std. dev. of 7 runs, 1 loop each)\n"
     ]
    }
   ],
   "source": [
    "%timeit init(1_000_000, 100, kdtree_euc)"
   ]
  },
  {
   "cell_type": "code",
   "execution_count": 20,
   "metadata": {},
   "outputs": [],
   "source": [
    "%load_ext line_profiler\n",
    "import divik.cluster._kmeans._initialization"
   ]
  },
  {
   "cell_type": "code",
   "execution_count": 22,
   "metadata": {},
   "outputs": [
    {
     "data": {
      "text/plain": [
       "Timer unit: 1e-06 s\n",
       "\n",
       "Total time: 2.5209 s\n",
       "File: /app/divik/cluster/_kmeans/_initialization.py\n",
       "Function: make_tree at line 130\n",
       "\n",
       "Line #      Hits         Time  Per Hit   % Time  Line Contents\n",
       "==============================================================\n",
       "   130                                           def make_tree(X, leaf_size: int, _feature_idx: int = 0) -> KDTree:\n",
       "   131                                               \"\"\"Make KDTree out of the data\n",
       "   132                                           \n",
       "   133                                               Construct a KDTree out of data using mean as a pivoting element.\n",
       "   134                                               Each split makes two segments. The result doesn't contain the original\n",
       "   135                                               data, just centroids in each box and count of items.\n",
       "   136                                           \n",
       "   137                                               Parameters\n",
       "   138                                               ==========\n",
       "   139                                               X : array_like, (n_samples, n_features)\n",
       "   140                                                   Set of observations to divide into boxes\n",
       "   141                                                   \n",
       "   142                                               leaf_size : int\n",
       "   143                                                   Desired leaf size. It should more than `leaf_size` and\n",
       "   144                                                   will be up to `2 * leaf_size`\n",
       "   145                                               \n",
       "   146                                               Returns\n",
       "   147                                               =======\n",
       "   148                                               tree : KDTree\n",
       "   149                                                   Lightweight KD-Tree over the data\n",
       "   150                                               \"\"\"\n",
       "   151       153       3142.0     20.5      0.1      if X.shape[0] < 2 * leaf_size:\n",
       "   152        77     102410.0   1330.0      4.1          centroid = X.mean(axis=0, keepdims=True)\n",
       "   153        77       3025.0     39.3      0.1          return Leaf(centroid, X.shape[0])\n",
       "   154        76       3882.0     51.1      0.2      feature = X[:, _feature_idx]\n",
       "   155        76     135499.0   1782.9      5.4      thr = np.mean(feature)\n",
       "   156        76    1133795.0  14918.4     45.0      left = X[feature < thr]\n",
       "   157        76    1133029.0  14908.3     44.9      right = X[feature > thr]\n",
       "   158        76       2234.0     29.4      0.1      next_feature = (_feature_idx + 1) % X.shape[1]\n",
       "   159        76       1004.0     13.2      0.0      return Node(\n",
       "   160        76       1513.0     19.9      0.1          left=make_tree(left, leaf_size=leaf_size, _feature_idx=next_feature),\n",
       "   161        76       1371.0     18.0      0.1          right=make_tree(right, leaf_size=leaf_size, _feature_idx=next_feature),\n",
       "   162                                               )\n",
       "\n",
       "Total time: 2.81038 s\n",
       "File: /app/divik/cluster/_kmeans/_initialization.py\n",
       "Function: __call__ at line 189\n",
       "\n",
       "Line #      Hits         Time  Per Hit   % Time  Line Contents\n",
       "==============================================================\n",
       "   189                                               def __call__(self, data: Data, number_of_centroids: int) -> Centroids:\n",
       "   190                                                   \"\"\"Generate initial centroids for k-means algorithm\"\"\"\n",
       "   191         1         19.0     19.0      0.0          _validate(data, number_of_centroids)\n",
       "   192         1         12.0     12.0      0.0          leaf_size = self.leaf_size\n",
       "   193         1         13.0     13.0      0.0          if isinstance(leaf_size, float):\n",
       "   194         1         11.0     11.0      0.0              if 0 <= leaf_size <= 1:\n",
       "   195         1         17.0     17.0      0.0                  leaf_size = max(int(leaf_size * data.shape[0]), 1)\n",
       "   196                                                       else:\n",
       "   197                                                           raise ValueError('leaf_size must be between 0 and 1 when float')\n",
       "   198         1    2800880.0 2800880.0     99.7          tree = make_tree(data, leaf_size=leaf_size)\n",
       "   199         1        270.0    270.0      0.0          leaves = get_leaves(tree)\n",
       "   200         1        379.0    379.0      0.0          box_centroids = np.vstack([l.centroid for l in leaves])\n",
       "   201         1         52.0     52.0      0.0          box_weights = np.array([l.count for l in leaves])\n",
       "   202                                           \n",
       "   203         1       5884.0   5884.0      0.2          residuals = _find_residuals(box_centroids, box_weights)\n",
       "   204         1         36.0     36.0      0.0          centroids = np.nan * np.zeros((number_of_centroids, data.shape[1]))\n",
       "   205         1         49.0     49.0      0.0          centroids[0] = box_centroids[np.argmax(residuals)]\n",
       "   206                                           \n",
       "   207         1         47.0     47.0      0.0          distances = np.inf * np.ones((box_centroids.shape[0], ))\n",
       "   208        10        125.0     12.5      0.0          for i in range(1, number_of_centroids):\n",
       "   209         9        116.0     12.9      0.0              current_distance = dist.cdist(\n",
       "   210         9       1722.0    191.3      0.1                  box_centroids, centroids[np.newaxis, i - 1], self.distance)\n",
       "   211         9        382.0     42.4      0.0              distances[:] = np.minimum(current_distance.ravel(), distances)\n",
       "   212         9        349.0     38.8      0.0              centroids[i] = box_centroids[np.argmax(distances)]\n",
       "   213                                           \n",
       "   214         1         13.0     13.0      0.0          return centroids"
      ]
     },
     "metadata": {},
     "output_type": "display_data"
    }
   ],
   "source": [
    "%lprun \\\n",
    "    -f divik.cluster._kmeans._initialization.make_tree \\\n",
    "    -f KDTreeInitialization.__call__ \\\n",
    "    init(1_000_000, 100, kdtree_euc)"
   ]
  }
 ],
 "metadata": {
  "kernelspec": {
   "display_name": "Python 3",
   "language": "python",
   "name": "python3"
  },
  "language_info": {
   "codemirror_mode": {
    "name": "ipython",
    "version": 3
   },
   "file_extension": ".py",
   "mimetype": "text/x-python",
   "name": "python",
   "nbconvert_exporter": "python",
   "pygments_lexer": "ipython3",
   "version": "3.7.6"
  }
 },
 "nbformat": 4,
 "nbformat_minor": 4
}
