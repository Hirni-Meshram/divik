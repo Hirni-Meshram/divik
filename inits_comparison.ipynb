{
 "cells": [
  {
   "cell_type": "code",
   "execution_count": 1,
   "metadata": {},
   "outputs": [],
   "source": [
    "from sklearn.datasets import make_blobs\n",
    "\n",
    "from divik.cluster._kmeans._initialization import PercentileInitialization, KDTreeInitialization"
   ]
  },
  {
   "cell_type": "code",
   "execution_count": 2,
   "metadata": {},
   "outputs": [],
   "source": [
    "def init(n_samples, n_features, initialize):\n",
    "    X, _ = make_blobs(n_samples=n_samples, n_features=n_features, centers=10, random_state=42)\n",
    "    initialize(X, 10)"
   ]
  },
  {
   "cell_type": "code",
   "execution_count": 3,
   "metadata": {},
   "outputs": [],
   "source": [
    "perc_corr = PercentileInitialization(distance='correlation')\n",
    "perc_euc = PercentileInitialization(distance='euclidean')\n",
    "kdtree_corr = KDTreeInitialization('correlation')\n",
    "kdtree_euc = KDTreeInitialization('euclidean')"
   ]
  },
  {
   "cell_type": "markdown",
   "metadata": {},
   "source": [
    "# Percentile Correlation"
   ]
  },
  {
   "cell_type": "code",
   "execution_count": 4,
   "metadata": {},
   "outputs": [
    {
     "name": "stdout",
     "output_type": "stream",
     "text": [
      "3.35 s ± 1.67 s per loop (mean ± std. dev. of 7 runs, 1 loop each)\n"
     ]
    }
   ],
   "source": [
    "%timeit init(1_000, 5_000, perc_corr)"
   ]
  },
  {
   "cell_type": "code",
   "execution_count": 5,
   "metadata": {},
   "outputs": [
    {
     "name": "stdout",
     "output_type": "stream",
     "text": [
      "2.32 s ± 223 ms per loop (mean ± std. dev. of 7 runs, 1 loop each)\n"
     ]
    }
   ],
   "source": [
    "%timeit init(10_000, 1_000, perc_corr)"
   ]
  },
  {
   "cell_type": "code",
   "execution_count": 6,
   "metadata": {},
   "outputs": [
    {
     "name": "stdout",
     "output_type": "stream",
     "text": [
      "2.56 s ± 1.11 s per loop (mean ± std. dev. of 7 runs, 1 loop each)\n"
     ]
    }
   ],
   "source": [
    "%timeit init(100_000, 100, perc_corr)"
   ]
  },
  {
   "cell_type": "code",
   "execution_count": 7,
   "metadata": {},
   "outputs": [
    {
     "name": "stdout",
     "output_type": "stream",
     "text": [
      "21.7 s ± 163 ms per loop (mean ± std. dev. of 7 runs, 1 loop each)\n"
     ]
    }
   ],
   "source": [
    "%timeit init(1_000_000, 100, perc_corr)"
   ]
  },
  {
   "cell_type": "markdown",
   "metadata": {},
   "source": [
    "# Percentile Euclidean"
   ]
  },
  {
   "cell_type": "code",
   "execution_count": 8,
   "metadata": {},
   "outputs": [
    {
     "name": "stdout",
     "output_type": "stream",
     "text": [
      "1.98 s ± 264 ms per loop (mean ± std. dev. of 7 runs, 1 loop each)\n"
     ]
    }
   ],
   "source": [
    "%timeit init(1_000, 5_000, perc_euc)"
   ]
  },
  {
   "cell_type": "code",
   "execution_count": 9,
   "metadata": {},
   "outputs": [
    {
     "name": "stdout",
     "output_type": "stream",
     "text": [
      "2.08 s ± 56.7 ms per loop (mean ± std. dev. of 7 runs, 1 loop each)\n"
     ]
    }
   ],
   "source": [
    "%timeit init(10_000, 1_000, perc_euc)"
   ]
  },
  {
   "cell_type": "code",
   "execution_count": 10,
   "metadata": {},
   "outputs": [
    {
     "name": "stdout",
     "output_type": "stream",
     "text": [
      "1.5 s ± 52.8 ms per loop (mean ± std. dev. of 7 runs, 1 loop each)\n"
     ]
    }
   ],
   "source": [
    "%timeit init(100_000, 100, perc_euc)"
   ]
  },
  {
   "cell_type": "code",
   "execution_count": 11,
   "metadata": {},
   "outputs": [
    {
     "name": "stdout",
     "output_type": "stream",
     "text": [
      "19.1 s ± 255 ms per loop (mean ± std. dev. of 7 runs, 1 loop each)\n"
     ]
    }
   ],
   "source": [
    "%timeit init(1_000_000, 100, perc_euc)"
   ]
  },
  {
   "cell_type": "markdown",
   "metadata": {},
   "source": [
    "# KDTree Correlation"
   ]
  },
  {
   "cell_type": "code",
   "execution_count": 12,
   "metadata": {},
   "outputs": [
    {
     "name": "stdout",
     "output_type": "stream",
     "text": [
      "439 ms ± 7.59 ms per loop (mean ± std. dev. of 7 runs, 1 loop each)\n"
     ]
    }
   ],
   "source": [
    "%timeit init(1_000, 5_000, kdtree_corr)"
   ]
  },
  {
   "cell_type": "code",
   "execution_count": 13,
   "metadata": {},
   "outputs": [
    {
     "name": "stdout",
     "output_type": "stream",
     "text": [
      "754 ms ± 34.8 ms per loop (mean ± std. dev. of 7 runs, 1 loop each)\n"
     ]
    }
   ],
   "source": [
    "%timeit init(10_000, 1_000, kdtree_corr)"
   ]
  },
  {
   "cell_type": "code",
   "execution_count": 14,
   "metadata": {},
   "outputs": [
    {
     "name": "stdout",
     "output_type": "stream",
     "text": [
      "729 ms ± 11.8 ms per loop (mean ± std. dev. of 7 runs, 1 loop each)\n"
     ]
    }
   ],
   "source": [
    "%timeit init(100_000, 100, kdtree_corr)"
   ]
  },
  {
   "cell_type": "code",
   "execution_count": 15,
   "metadata": {},
   "outputs": [
    {
     "name": "stdout",
     "output_type": "stream",
     "text": [
      "7.19 s ± 29.9 ms per loop (mean ± std. dev. of 7 runs, 1 loop each)\n"
     ]
    }
   ],
   "source": [
    "%timeit init(1_000_000, 100, kdtree_corr)"
   ]
  },
  {
   "cell_type": "markdown",
   "metadata": {},
   "source": [
    "# KDTree Euclidean"
   ]
  },
  {
   "cell_type": "code",
   "execution_count": 16,
   "metadata": {},
   "outputs": [
    {
     "name": "stdout",
     "output_type": "stream",
     "text": [
      "414 ms ± 12.5 ms per loop (mean ± std. dev. of 7 runs, 1 loop each)\n"
     ]
    }
   ],
   "source": [
    "%timeit init(1_000, 5_000, kdtree_euc)"
   ]
  },
  {
   "cell_type": "code",
   "execution_count": 17,
   "metadata": {},
   "outputs": [
    {
     "name": "stdout",
     "output_type": "stream",
     "text": [
      "735 ms ± 46.5 ms per loop (mean ± std. dev. of 7 runs, 1 loop each)\n"
     ]
    }
   ],
   "source": [
    "%timeit init(10_000, 1_000, kdtree_euc)"
   ]
  },
  {
   "cell_type": "code",
   "execution_count": 18,
   "metadata": {},
   "outputs": [
    {
     "name": "stdout",
     "output_type": "stream",
     "text": [
      "713 ms ± 15 ms per loop (mean ± std. dev. of 7 runs, 1 loop each)\n"
     ]
    }
   ],
   "source": [
    "%timeit init(100_000, 100, kdtree_euc)"
   ]
  },
  {
   "cell_type": "code",
   "execution_count": 19,
   "metadata": {},
   "outputs": [
    {
     "name": "stdout",
     "output_type": "stream",
     "text": [
      "7.24 s ± 102 ms per loop (mean ± std. dev. of 7 runs, 1 loop each)\n"
     ]
    }
   ],
   "source": [
    "%timeit init(1_000_000, 100, kdtree_euc)"
   ]
  },
  {
   "cell_type": "code",
   "execution_count": 20,
   "metadata": {},
   "outputs": [],
   "source": [
    "%load_ext line_profiler\n",
    "import divik.cluster._kmeans._initialization"
   ]
  },
  {
   "cell_type": "code",
   "execution_count": 21,
   "metadata": {},
   "outputs": [
    {
     "data": {
      "text/plain": [
       "Timer unit: 1e-06 s\n",
       "\n",
       "Total time: 1.56127 s\n",
       "File: /app/divik/cluster/_kmeans/_initialization.py\n",
       "Function: make_tree at line 130\n",
       "\n",
       "Line #      Hits         Time  Per Hit   % Time  Line Contents\n",
       "==============================================================\n",
       "   130                                           def make_tree(X, leaf_size: int, _feature_idx: int = 0) -> KDTree:\n",
       "   131                                               \"\"\"Make KDTree out of the data\n",
       "   132                                           \n",
       "   133                                               Construct a KDTree out of data using mean as a pivoting element.\n",
       "   134                                               Each split makes two segments. The result doesn't contain the original\n",
       "   135                                               data, just centroids in each box and count of items.\n",
       "   136                                           \n",
       "   137                                               Parameters\n",
       "   138                                               ==========\n",
       "   139                                               X : array_like, (n_samples, n_features)\n",
       "   140                                                   Set of observations to divide into boxes\n",
       "   141                                                   \n",
       "   142                                               leaf_size : int\n",
       "   143                                                   Desired leaf size. It should more than `leaf_size` and\n",
       "   144                                                   will be up to `2 * leaf_size`\n",
       "   145                                               \n",
       "   146                                               Returns\n",
       "   147                                               =======\n",
       "   148                                               tree : KDTree\n",
       "   149                                                   Lightweight KD-Tree over the data\n",
       "   150                                               \"\"\"\n",
       "   151       153       1808.0     11.8      0.1      if X.shape[0] < 2 * leaf_size:\n",
       "   152        77      70872.0    920.4      4.5          centroid = X.mean(axis=0, keepdims=True)\n",
       "   153        77       1524.0     19.8      0.1          return Leaf(centroid, X.shape[0])\n",
       "   154        76       1380.0     18.2      0.1      feature = X[:, _feature_idx]\n",
       "   155        76     108667.0   1429.8      7.0      thr = np.mean(feature)\n",
       "   156        76      80939.0   1065.0      5.2      left_idx = feature < thr\n",
       "   157        76       2947.0     38.8      0.2      right_idx = np.logical_not(left_idx)\n",
       "   158        76     636426.0   8374.0     40.8      left = np.compress(left_idx, X, axis=0)\n",
       "   159        76     652490.0   8585.4     41.8      right = np.compress(right_idx, X, axis=0)\n",
       "   160        76       1413.0     18.6      0.1      next_feature = (_feature_idx + 1) % X.shape[1]\n",
       "   161        76        883.0     11.6      0.1      return Node(\n",
       "   162        76       1013.0     13.3      0.1          left=make_tree(left, leaf_size=leaf_size, _feature_idx=next_feature),\n",
       "   163        76        911.0     12.0      0.1          right=make_tree(right, leaf_size=leaf_size, _feature_idx=next_feature),\n",
       "   164                                               )\n",
       "\n",
       "Total time: 1.82 s\n",
       "File: /app/divik/cluster/_kmeans/_initialization.py\n",
       "Function: __call__ at line 191\n",
       "\n",
       "Line #      Hits         Time  Per Hit   % Time  Line Contents\n",
       "==============================================================\n",
       "   191                                               def __call__(self, data: Data, number_of_centroids: int) -> Centroids:\n",
       "   192                                                   \"\"\"Generate initial centroids for k-means algorithm\"\"\"\n",
       "   193         1       1203.0   1203.0      0.1          _validate(data, number_of_centroids)\n",
       "   194         1         72.0     72.0      0.0          leaf_size = self.leaf_size\n",
       "   195         1         13.0     13.0      0.0          if isinstance(leaf_size, float):\n",
       "   196         1         12.0     12.0      0.0              if 0 <= leaf_size <= 1:\n",
       "   197         1         22.0     22.0      0.0                  leaf_size = max(int(leaf_size * data.shape[0]), 1)\n",
       "   198                                                       else:\n",
       "   199                                                           raise ValueError('leaf_size must be between 0 and 1 when float')\n",
       "   200         1    1811903.0 1811903.0     99.6          tree = make_tree(data, leaf_size=leaf_size)\n",
       "   201         1        255.0    255.0      0.0          leaves = get_leaves(tree)\n",
       "   202         1        377.0    377.0      0.0          box_centroids = np.vstack([l.centroid for l in leaves])\n",
       "   203         1         53.0     53.0      0.0          box_weights = np.array([l.count for l in leaves])\n",
       "   204                                           \n",
       "   205         1       4079.0   4079.0      0.2          residuals = _find_residuals(box_centroids, box_weights)\n",
       "   206         1         22.0     22.0      0.0          centroids = np.nan * np.zeros((number_of_centroids, data.shape[1]))\n",
       "   207         1         29.0     29.0      0.0          centroids[0] = box_centroids[np.argmax(residuals)]\n",
       "   208                                           \n",
       "   209         1         27.0     27.0      0.0          distances = np.inf * np.ones((box_centroids.shape[0], ))\n",
       "   210        10         97.0      9.7      0.0          for i in range(1, number_of_centroids):\n",
       "   211         9         88.0      9.8      0.0              current_distance = dist.cdist(\n",
       "   212         9       1244.0    138.2      0.1                  box_centroids, centroids[np.newaxis, i - 1], self.distance)\n",
       "   213         9        263.0     29.2      0.0              distances[:] = np.minimum(current_distance.ravel(), distances)\n",
       "   214         9        231.0     25.7      0.0              centroids[i] = box_centroids[np.argmax(distances)]\n",
       "   215                                           \n",
       "   216         1          8.0      8.0      0.0          return centroids"
      ]
     },
     "metadata": {},
     "output_type": "display_data"
    }
   ],
   "source": [
    "%lprun \\\n",
    "    -f divik.cluster._kmeans._initialization.make_tree \\\n",
    "    -f KDTreeInitialization.__call__ \\\n",
    "    init(1_000_000, 100, kdtree_euc)"
   ]
  }
 ],
 "metadata": {
  "kernelspec": {
   "display_name": "Python 3",
   "language": "python",
   "name": "python3"
  },
  "language_info": {
   "codemirror_mode": {
    "name": "ipython",
    "version": 3
   },
   "file_extension": ".py",
   "mimetype": "text/x-python",
   "name": "python",
   "nbconvert_exporter": "python",
   "pygments_lexer": "ipython3",
   "version": "3.7.6"
  }
 },
 "nbformat": 4,
 "nbformat_minor": 4
}
