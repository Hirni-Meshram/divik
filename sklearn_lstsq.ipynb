{
 "cells": [
  {
   "cell_type": "code",
   "execution_count": 1,
   "metadata": {},
   "outputs": [],
   "source": [
    "import numpy as np\n",
    "\n",
    "from sklearn.datasets import make_blobs\n",
    "from sklearn.linear_model import LinearRegression\n",
    "\n",
    "from divik.cluster._kmeans._initialization import _residuals_numba, _lstsq_numba"
   ]
  },
  {
   "cell_type": "code",
   "execution_count": 2,
   "metadata": {},
   "outputs": [],
   "source": [
    "X, y = make_blobs(n_samples=100_000, n_features=100, centers=15, random_state=42)"
   ]
  },
  {
   "cell_type": "code",
   "execution_count": 3,
   "metadata": {},
   "outputs": [],
   "source": [
    "def _find_residuals(data: np.ndarray) -> np.ndarray:\n",
    "    features = data.T\n",
    "    assumed_ys = features[0]\n",
    "    modelled_xs = np.hstack([np.ones((data.shape[0], 1)),\n",
    "                             features[1:].T])\n",
    "    coefficients = _lstsq_numba(modelled_xs, assumed_ys)\n",
    "    residuals = _residuals_numba(modelled_xs, assumed_ys, coefficients)\n",
    "    return residuals"
   ]
  },
  {
   "cell_type": "code",
   "execution_count": 4,
   "metadata": {},
   "outputs": [],
   "source": [
    "_find_residuals(X)\n",
    "None"
   ]
  },
  {
   "cell_type": "code",
   "execution_count": 5,
   "metadata": {},
   "outputs": [
    {
     "name": "stdout",
     "output_type": "stream",
     "text": [
      "1.23 s ± 76.3 ms per loop (mean ± std. dev. of 7 runs, 1 loop each)\n"
     ]
    }
   ],
   "source": [
    "%timeit _find_residuals(X)"
   ]
  },
  {
   "cell_type": "code",
   "execution_count": 6,
   "metadata": {},
   "outputs": [],
   "source": [
    "def _find_residuals_sklearn(data: np.ndarray) -> np.ndarray:\n",
    "    features = data.T\n",
    "    assumed_ys = features[0]\n",
    "    modelled_xs = features[1:].T\n",
    "    lr = LinearRegression().fit(modelled_xs, assumed_ys)\n",
    "    residuals = np.abs(lr.predict(modelled_xs) - assumed_ys)\n",
    "    return residuals"
   ]
  },
  {
   "cell_type": "code",
   "execution_count": 7,
   "metadata": {},
   "outputs": [
    {
     "name": "stdout",
     "output_type": "stream",
     "text": [
      "1.51 s ± 130 ms per loop (mean ± std. dev. of 7 runs, 1 loop each)\n"
     ]
    }
   ],
   "source": [
    "%timeit _find_residuals_sklearn(X)"
   ]
  }
 ],
 "metadata": {
  "kernelspec": {
   "display_name": "Python 3",
   "language": "python",
   "name": "python3"
  },
  "language_info": {
   "codemirror_mode": {
    "name": "ipython",
    "version": 3
   },
   "file_extension": ".py",
   "mimetype": "text/x-python",
   "name": "python",
   "nbconvert_exporter": "python",
   "pygments_lexer": "ipython3",
   "version": "3.7.6"
  }
 },
 "nbformat": 4,
 "nbformat_minor": 4
}
