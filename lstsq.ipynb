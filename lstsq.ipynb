{
 "cells": [
  {
   "cell_type": "code",
   "execution_count": 1,
   "metadata": {},
   "outputs": [],
   "source": [
    "from numba import njit, prange\n",
    "import numpy as np\n",
    "from sklearn.datasets import make_blobs"
   ]
  },
  {
   "cell_type": "code",
   "execution_count": 2,
   "metadata": {},
   "outputs": [],
   "source": [
    "X, y = make_blobs(n_samples=100000, n_features=100, centers=10, random_state=42)"
   ]
  },
  {
   "cell_type": "code",
   "execution_count": 3,
   "metadata": {},
   "outputs": [],
   "source": [
    "def _residuals_simple(X, y, coef):\n",
    "    return np.abs(np.dot(X, coef) - y)\n",
    "\n",
    "\n",
    "@njit(parallel=True, fastmath=True)\n",
    "def _residuals_numba(X, y, coef):\n",
    "    return np.abs(np.dot(X, coef) - y)\n",
    "\n",
    "\n",
    "def _make_x_y(data):\n",
    "    features = data.T\n",
    "    assumed_ys = features[0]\n",
    "    modelled_xs = np.hstack([np.ones((data.shape[0], 1)),\n",
    "                             features[1:].T])\n",
    "    return modelled_xs, assumed_ys\n",
    "\n",
    "\n",
    "def _lstsq_simple(X, y):\n",
    "    default = -1\n",
    "    coefficients, _, _, _ = np.linalg.lstsq(X, y, rcond=default)\n",
    "    return coefficients\n",
    "\n",
    "@njit\n",
    "def _lstsq_numba(X, y):\n",
    "    default = -1\n",
    "    coefficients, _, _, _ = np.linalg.lstsq(X, y, rcond=default)\n",
    "    return coefficients"
   ]
  },
  {
   "cell_type": "code",
   "execution_count": 4,
   "metadata": {},
   "outputs": [
    {
     "data": {
      "text/plain": [
       "((100000,), (100000, 100))"
      ]
     },
     "execution_count": 4,
     "metadata": {},
     "output_type": "execute_result"
    }
   ],
   "source": [
    "_COEF = None\n",
    "_X = None\n",
    "_y = None\n",
    "\n",
    "def _find_residuals(data):\n",
    "    modelled_xs, assumed_ys = _make_x_y(data)\n",
    "    coefficients = _lstsq_numba(modelled_xs, assumed_ys)\n",
    "    global _COEF\n",
    "    _COEF = coefficients\n",
    "    global _X\n",
    "    _X = modelled_xs\n",
    "    global _y\n",
    "    _y = assumed_ys\n",
    "    residuals = _residuals_numba(modelled_xs, assumed_ys, coefficients)\n",
    "    return residuals\n",
    "\n",
    "resid_orig = _find_residuals(X)\n",
    "resid_orig.shape, _X.shape"
   ]
  },
  {
   "cell_type": "code",
   "execution_count": 5,
   "metadata": {},
   "outputs": [
    {
     "name": "stdout",
     "output_type": "stream",
     "text": [
      "582 ms ± 54.3 ms per loop (mean ± std. dev. of 7 runs, 1 loop each)\n"
     ]
    }
   ],
   "source": [
    "%timeit _lstsq_simple(_X, _y)"
   ]
  },
  {
   "cell_type": "code",
   "execution_count": 6,
   "metadata": {},
   "outputs": [
    {
     "name": "stdout",
     "output_type": "stream",
     "text": [
      "683 ms ± 92.2 ms per loop (mean ± std. dev. of 7 runs, 1 loop each)\n"
     ]
    }
   ],
   "source": [
    "%timeit _lstsq_numba(_X, _y)"
   ]
  },
  {
   "cell_type": "code",
   "execution_count": 7,
   "metadata": {},
   "outputs": [
    {
     "name": "stdout",
     "output_type": "stream",
     "text": [
      "6.68 ms ± 89.5 µs per loop (mean ± std. dev. of 7 runs, 100 loops each)\n"
     ]
    }
   ],
   "source": [
    "%timeit _residuals_simple(_X, _y, _COEF)"
   ]
  },
  {
   "cell_type": "code",
   "execution_count": 8,
   "metadata": {},
   "outputs": [
    {
     "name": "stdout",
     "output_type": "stream",
     "text": [
      "3.52 ms ± 141 µs per loop (mean ± std. dev. of 7 runs, 100 loops each)\n"
     ]
    }
   ],
   "source": [
    "%timeit _residuals_numba(_X, _y, _COEF)"
   ]
  },
  {
   "cell_type": "code",
   "execution_count": 9,
   "metadata": {},
   "outputs": [
    {
     "data": {
      "text/plain": [
       "(1,)"
      ]
     },
     "execution_count": 9,
     "metadata": {},
     "output_type": "execute_result"
    }
   ],
   "source": [
    "_, resid, *_ = np.linalg.lstsq(_X, _y, rcond=-1)\n",
    "resid.shape"
   ]
  }
 ],
 "metadata": {
  "kernelspec": {
   "display_name": "Python 3",
   "language": "python",
   "name": "python3"
  },
  "language_info": {
   "codemirror_mode": {
    "name": "ipython",
    "version": 3
   },
   "file_extension": ".py",
   "mimetype": "text/x-python",
   "name": "python",
   "nbconvert_exporter": "python",
   "pygments_lexer": "ipython3",
   "version": "3.7.6"
  }
 },
 "nbformat": 4,
 "nbformat_minor": 4
}
