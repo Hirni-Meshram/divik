{
 "cells": [
  {
   "cell_type": "code",
   "execution_count": 1,
   "metadata": {},
   "outputs": [],
   "source": [
    "from typing import List, NamedTuple, Union\n",
    "\n",
    "import numpy as np\n",
    "from sklearn.datasets import make_blobs"
   ]
  },
  {
   "cell_type": "code",
   "execution_count": 2,
   "metadata": {},
   "outputs": [],
   "source": [
    "X, y = make_blobs(n_samples=1_000_000, n_features=100, centers=15, random_state=42)"
   ]
  },
  {
   "cell_type": "code",
   "execution_count": 3,
   "metadata": {},
   "outputs": [],
   "source": [
    "class Leaf(NamedTuple):\n",
    "    bounds: np.ndarray\n",
    "    centroid: np.ndarray\n",
    "    count: int = 0\n",
    "\n",
    "KDTree = Union['Node', Leaf]\n",
    "        \n",
    "class Node(NamedTuple):\n",
    "    pivot_value: float\n",
    "    pivot_feature: int\n",
    "    left: KDTree = None\n",
    "    right: KDTree = None"
   ]
  },
  {
   "cell_type": "code",
   "execution_count": 4,
   "metadata": {},
   "outputs": [],
   "source": [
    "def make_median_tree(X, depth: int=4) -> KDTree:\n",
    "    \"\"\"Make KDTree using median as pivot\n",
    "\n",
    "    Construct a KDTree out of data using median as a pivoting element.\n",
    "    Each split makes two segments. The result doesn't contain the original\n",
    "    data, just the splitting points, bounds of leaves, centroids in each box\n",
    "    and count of items.\n",
    "\n",
    "    Parameters\n",
    "    ==========\n",
    "    X : array_like, (n_samples, n_features)\n",
    "        Set of observations to divide into boxes\n",
    "        \n",
    "    depth : int, optional (default 4)\n",
    "        Number of splits done\n",
    "    \n",
    "    Returns\n",
    "    =======\n",
    "    tree : KDTree\n",
    "        Lightweight KD-Tree over the data\n",
    "    \"\"\"\n",
    "    X = np.asanyarray(X)\n",
    "    if depth == 0:\n",
    "        bounds = np.vstack([X.min(axis=0, keepdims=True),\n",
    "                            X.max(axis=0, keepdims=True)])\n",
    "        centroid = X.mean(axis=0, keepdims=True)\n",
    "        return Leaf(bounds, centroid, X.shape[0])\n",
    "    most_variant = X.var(axis=0).argmax()\n",
    "    feature = X[:, most_variant]\n",
    "    med_feature = np.median(feature)\n",
    "    left = X[feature < med_feature]\n",
    "    right = X[feature > med_feature]\n",
    "    return Node(\n",
    "        pivot_value=med_feature, pivot_feature=most_variant,\n",
    "        left=make_median_tree(left, depth-1), right=make_median_tree(right, depth-1),\n",
    "    )"
   ]
  },
  {
   "cell_type": "code",
   "execution_count": 5,
   "metadata": {},
   "outputs": [
    {
     "name": "stdout",
     "output_type": "stream",
     "text": [
      "4.12 s ± 13 ms per loop (mean ± std. dev. of 7 runs, 1 loop each)\n"
     ]
    }
   ],
   "source": [
    "%timeit make_median_tree(X)"
   ]
  },
  {
   "cell_type": "code",
   "execution_count": 6,
   "metadata": {},
   "outputs": [],
   "source": [
    "def get_leaves(tree: KDTree) -> List[Leaf]:\n",
    "    \"\"\"Extract leaves of the KDTree\n",
    "    \n",
    "    Parameters\n",
    "    ==========\n",
    "    tree : KDTree\n",
    "        KDTree constructed on the data\n",
    "        \n",
    "    Returns\n",
    "    =======\n",
    "    leaves : list of Leaf\n",
    "        All the leaves from the full depth of the tree\n",
    "    \"\"\"\n",
    "    if isinstance(tree, Leaf):\n",
    "        return [tree]\n",
    "    return get_leaves(tree.left) + get_leaves(tree.right)"
   ]
  },
  {
   "cell_type": "code",
   "execution_count": 7,
   "metadata": {},
   "outputs": [],
   "source": [
    "leaves = get_leaves(make_median_tree(X, depth=2))"
   ]
  },
  {
   "cell_type": "code",
   "execution_count": 8,
   "metadata": {},
   "outputs": [],
   "source": [
    "assert len(leaves) == 4, len(leaves)"
   ]
  },
  {
   "cell_type": "code",
   "execution_count": 9,
   "metadata": {},
   "outputs": [],
   "source": [
    "assert sum(l.count for l in leaves) == X.shape[0]"
   ]
  },
  {
   "cell_type": "code",
   "execution_count": 10,
   "metadata": {},
   "outputs": [],
   "source": [
    "lb_approved = (leaves[0].bounds[0] <= X).all(axis=1)\n",
    "ub_approved = (leaves[0].bounds[1] >= X).all(axis=1)\n",
    "is_first_leave = np.logical_and(lb_approved, ub_approved)\n",
    "assert is_first_leave.sum() == leaves[0].count"
   ]
  },
  {
   "cell_type": "code",
   "execution_count": 11,
   "metadata": {},
   "outputs": [],
   "source": [
    "np.testing.assert_almost_equal(X[is_first_leave].mean(axis=0, keepdims=True),\n",
    "                               leaves[0].centroid)"
   ]
  },
  {
   "cell_type": "code",
   "execution_count": 12,
   "metadata": {},
   "outputs": [],
   "source": [
    "from skimage.filters import threshold_otsu"
   ]
  },
  {
   "cell_type": "code",
   "execution_count": 13,
   "metadata": {},
   "outputs": [
    {
     "data": {
      "text/plain": [
       "-1.0802173354994267"
      ]
     },
     "execution_count": 13,
     "metadata": {},
     "output_type": "execute_result"
    }
   ],
   "source": [
    "thr = threshold_otsu(X[0])\n",
    "thr"
   ]
  },
  {
   "cell_type": "code",
   "execution_count": 14,
   "metadata": {},
   "outputs": [
    {
     "name": "stdout",
     "output_type": "stream",
     "text": [
      "46.6 µs ± 550 ns per loop (mean ± std. dev. of 7 runs, 10000 loops each)\n"
     ]
    }
   ],
   "source": [
    "%timeit np.median(X[0])"
   ]
  },
  {
   "cell_type": "code",
   "execution_count": 15,
   "metadata": {},
   "outputs": [
    {
     "name": "stdout",
     "output_type": "stream",
     "text": [
      "180 µs ± 4.3 µs per loop (mean ± std. dev. of 7 runs, 10000 loops each)\n"
     ]
    }
   ],
   "source": [
    "%timeit threshold_otsu(X[0])"
   ]
  },
  {
   "cell_type": "code",
   "execution_count": 16,
   "metadata": {},
   "outputs": [],
   "source": [
    "def make_tree(X, leaf_size: Union[int, float]=0.01, pivot=np.median) -> KDTree:\n",
    "    \"\"\"Make KDTree out of the data\n",
    "\n",
    "    Construct a KDTree out of data using Otsu threshold as a pivoting element.\n",
    "    Each split makes two segments. The result doesn't contain the original\n",
    "    data, just the splitting points, bounds of leaves, centroids in each box\n",
    "    and count of items.\n",
    "\n",
    "    Parameters\n",
    "    ==========\n",
    "    X : array_like, (n_samples, n_features)\n",
    "        Set of observations to divide into boxes\n",
    "        \n",
    "    leaf_size : int or float, optional (default 0.01)\n",
    "        Desired leaf size. When int, it will be between `leaf_size` and\n",
    "        `2 * leaf_size`. When float, it will be between\n",
    "        `leaf_size * n_samples` and `2 * leaf_size * n_samples`\n",
    "    \n",
    "    pivot : callable, optional (default np.median)\n",
    "        Method to find the pivot element\n",
    "    \n",
    "    Returns\n",
    "    =======\n",
    "    tree : KDTree\n",
    "        Lightweight KD-Tree over the data\n",
    "    \"\"\"\n",
    "    X = np.asanyarray(X)\n",
    "    if isinstance(leaf_size, float):\n",
    "        if 0 <= leaf_size <= 1:\n",
    "            leaf_size = int(leaf_size * X.shape[0])\n",
    "        else:\n",
    "            raise ValueError('leaf_size must be between 0 and 1 when float')\n",
    "    if X.shape[0] < 2 * leaf_size:\n",
    "        bounds = np.vstack([X.min(axis=0, keepdims=True),\n",
    "                            X.max(axis=0, keepdims=True)])\n",
    "        centroid = X.mean(axis=0, keepdims=True)\n",
    "        return Leaf(bounds, centroid, X.shape[0])\n",
    "    most_variant = X.var(axis=0).argmax()\n",
    "    feature = X[:, most_variant]\n",
    "    thr = pivot(feature)\n",
    "    left = X[feature < thr]\n",
    "    right = X[feature > thr]\n",
    "    return Node(\n",
    "        pivot_value=thr, pivot_feature=most_variant,\n",
    "        left=make_tree(left, leaf_size=leaf_size, pivot=pivot),\n",
    "        right=make_tree(right, leaf_size=leaf_size, pivot=pivot),\n",
    "    )"
   ]
  },
  {
   "cell_type": "code",
   "execution_count": 17,
   "metadata": {},
   "outputs": [
    {
     "name": "stdout",
     "output_type": "stream",
     "text": [
      "5.02 s ± 180 ms per loop (mean ± std. dev. of 7 runs, 1 loop each)\n"
     ]
    }
   ],
   "source": [
    "%timeit make_tree(X, leaf_size=25_000, pivot=threshold_otsu)"
   ]
  }
 ],
 "metadata": {
  "kernelspec": {
   "display_name": "Python 3",
   "language": "python",
   "name": "python3"
  },
  "language_info": {
   "codemirror_mode": {
    "name": "ipython",
    "version": 3
   },
   "file_extension": ".py",
   "mimetype": "text/x-python",
   "name": "python",
   "nbconvert_exporter": "python",
   "pygments_lexer": "ipython3",
   "version": "3.7.6"
  }
 },
 "nbformat": 4,
 "nbformat_minor": 4
}
