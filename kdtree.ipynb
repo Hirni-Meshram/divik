{
 "cells": [
  {
   "cell_type": "code",
   "execution_count": 1,
   "metadata": {},
   "outputs": [],
   "source": [
    "%load_ext line_profiler"
   ]
  },
  {
   "cell_type": "code",
   "execution_count": 2,
   "metadata": {},
   "outputs": [],
   "source": [
    "from typing import List, NamedTuple, Union\n",
    "\n",
    "from numba import njit, prange\n",
    "import numpy as np\n",
    "from sklearn.datasets import make_blobs"
   ]
  },
  {
   "cell_type": "code",
   "execution_count": 3,
   "metadata": {},
   "outputs": [],
   "source": [
    "X, y = make_blobs(n_samples=1_000_000, n_features=100, centers=15, random_state=42)"
   ]
  },
  {
   "cell_type": "markdown",
   "metadata": {},
   "source": [
    "# Naive implementation with median"
   ]
  },
  {
   "cell_type": "code",
   "execution_count": 4,
   "metadata": {},
   "outputs": [],
   "source": [
    "class Leaf(NamedTuple):\n",
    "    bounds: np.ndarray\n",
    "    centroid: np.ndarray\n",
    "    count: int = 0\n",
    "\n",
    "KDTree = Union['Node', Leaf]\n",
    "        \n",
    "class Node(NamedTuple):\n",
    "    pivot_value: float\n",
    "    pivot_feature: int\n",
    "    left: KDTree = None\n",
    "    right: KDTree = None"
   ]
  },
  {
   "cell_type": "code",
   "execution_count": 5,
   "metadata": {},
   "outputs": [],
   "source": [
    "def make_median_tree(X, depth: int=4) -> KDTree:\n",
    "    X = np.asanyarray(X)\n",
    "    if depth == 0:\n",
    "        bounds = np.vstack([X.min(axis=0, keepdims=True),\n",
    "                            X.max(axis=0, keepdims=True)])\n",
    "        centroid = X.mean(axis=0, keepdims=True)\n",
    "        return Leaf(bounds, centroid, X.shape[0])\n",
    "    most_variant = X.var(axis=0).argmax()\n",
    "    feature = X[:, most_variant]\n",
    "    med_feature = np.median(feature)\n",
    "    left = X[feature < med_feature]\n",
    "    right = X[feature > med_feature]\n",
    "    return Node(\n",
    "        pivot_value=med_feature, pivot_feature=most_variant,\n",
    "        left=make_median_tree(left, depth-1), right=make_median_tree(right, depth-1),\n",
    "    )"
   ]
  },
  {
   "cell_type": "code",
   "execution_count": 6,
   "metadata": {},
   "outputs": [
    {
     "name": "stdout",
     "output_type": "stream",
     "text": [
      "4.41 s ± 306 ms per loop (mean ± std. dev. of 7 runs, 1 loop each)\n"
     ]
    }
   ],
   "source": [
    "%timeit make_median_tree(X)"
   ]
  },
  {
   "cell_type": "code",
   "execution_count": 7,
   "metadata": {},
   "outputs": [],
   "source": [
    "def get_leaves(tree: KDTree) -> List[Leaf]:\n",
    "    if isinstance(tree, Leaf):\n",
    "        return [tree]\n",
    "    return get_leaves(tree.left) + get_leaves(tree.right)"
   ]
  },
  {
   "cell_type": "code",
   "execution_count": 8,
   "metadata": {},
   "outputs": [],
   "source": [
    "leaves = get_leaves(make_median_tree(X, depth=2))"
   ]
  },
  {
   "cell_type": "code",
   "execution_count": 9,
   "metadata": {},
   "outputs": [],
   "source": [
    "assert len(leaves) == 4, len(leaves)"
   ]
  },
  {
   "cell_type": "code",
   "execution_count": 10,
   "metadata": {},
   "outputs": [],
   "source": [
    "assert sum(l.count for l in leaves) == X.shape[0]"
   ]
  },
  {
   "cell_type": "code",
   "execution_count": 11,
   "metadata": {},
   "outputs": [],
   "source": [
    "lb_approved = (leaves[0].bounds[0] <= X).all(axis=1)\n",
    "ub_approved = (leaves[0].bounds[1] >= X).all(axis=1)\n",
    "is_first_leave = np.logical_and(lb_approved, ub_approved)\n",
    "assert is_first_leave.sum() == leaves[0].count"
   ]
  },
  {
   "cell_type": "code",
   "execution_count": 12,
   "metadata": {},
   "outputs": [],
   "source": [
    "np.testing.assert_almost_equal(X[is_first_leave].mean(axis=0, keepdims=True),\n",
    "                               leaves[0].centroid)"
   ]
  },
  {
   "cell_type": "markdown",
   "metadata": {},
   "source": [
    "# Implementation with Otsu"
   ]
  },
  {
   "cell_type": "code",
   "execution_count": 13,
   "metadata": {},
   "outputs": [],
   "source": [
    "from skimage.filters import threshold_otsu"
   ]
  },
  {
   "cell_type": "code",
   "execution_count": 14,
   "metadata": {},
   "outputs": [
    {
     "data": {
      "text/plain": [
       "-2.260098580327072"
      ]
     },
     "execution_count": 14,
     "metadata": {},
     "output_type": "execute_result"
    }
   ],
   "source": [
    "thr = threshold_otsu(X[:, 0])\n",
    "thr"
   ]
  },
  {
   "cell_type": "code",
   "execution_count": 15,
   "metadata": {},
   "outputs": [
    {
     "name": "stdout",
     "output_type": "stream",
     "text": [
      "31.6 ms ± 2.35 ms per loop (mean ± std. dev. of 7 runs, 10 loops each)\n"
     ]
    }
   ],
   "source": [
    "%timeit np.median(X[:, 0])"
   ]
  },
  {
   "cell_type": "code",
   "execution_count": 16,
   "metadata": {},
   "outputs": [
    {
     "name": "stdout",
     "output_type": "stream",
     "text": [
      "58 ms ± 1.64 ms per loop (mean ± std. dev. of 7 runs, 10 loops each)\n"
     ]
    }
   ],
   "source": [
    "%timeit threshold_otsu(X[:, 0])"
   ]
  },
  {
   "cell_type": "code",
   "execution_count": 17,
   "metadata": {},
   "outputs": [
    {
     "name": "stdout",
     "output_type": "stream",
     "text": [
      "60.3 ms ± 1.59 ms per loop (mean ± std. dev. of 7 runs, 10 loops each)\n"
     ]
    }
   ],
   "source": [
    "%timeit threshold_otsu(X[:, 0], nbins=32)"
   ]
  },
  {
   "cell_type": "code",
   "execution_count": 18,
   "metadata": {},
   "outputs": [],
   "source": [
    "def make_tree(X, leaf_size: Union[int, float]=0.01, pivot=np.median) -> KDTree:\n",
    "    X = np.asanyarray(X)\n",
    "    if isinstance(leaf_size, float):\n",
    "        if 0 <= leaf_size <= 1:\n",
    "            leaf_size = int(leaf_size * X.shape[0])\n",
    "        else:\n",
    "            raise ValueError('leaf_size must be between 0 and 1 when float')\n",
    "    if X.shape[0] < 2 * leaf_size:\n",
    "        bounds = np.vstack([X.min(axis=0, keepdims=True),\n",
    "                            X.max(axis=0, keepdims=True)])\n",
    "        centroid = X.mean(axis=0, keepdims=True)\n",
    "        return Leaf(bounds, centroid, X.shape[0])\n",
    "    most_variant = X.var(axis=0).argmax()\n",
    "    feature = X[:, most_variant]\n",
    "    thr = pivot(feature)\n",
    "    left = X[feature < thr]\n",
    "    right = X[feature > thr]\n",
    "    return Node(\n",
    "        pivot_value=thr, pivot_feature=most_variant,\n",
    "        left=make_tree(left, leaf_size=leaf_size, pivot=pivot),\n",
    "        right=make_tree(right, leaf_size=leaf_size, pivot=pivot),\n",
    "    )"
   ]
  },
  {
   "cell_type": "code",
   "execution_count": 19,
   "metadata": {},
   "outputs": [
    {
     "name": "stdout",
     "output_type": "stream",
     "text": [
      "5.01 s ± 116 ms per loop (mean ± std. dev. of 7 runs, 1 loop each)\n"
     ]
    }
   ],
   "source": [
    "%timeit make_tree(X, leaf_size=25_000, pivot=threshold_otsu)"
   ]
  },
  {
   "cell_type": "code",
   "execution_count": 20,
   "metadata": {},
   "outputs": [
    {
     "data": {
      "text/plain": [
       "Timer unit: 1e-06 s\n",
       "\n",
       "Total time: 4.69181 s\n",
       "File: <ipython-input-18-fc5ecc726bb3>\n",
       "Function: make_tree at line 1\n",
       "\n",
       "Line #      Hits         Time  Per Hit   % Time  Line Contents\n",
       "==============================================================\n",
       "     1                                           def make_tree(X, leaf_size: Union[int, float]=0.01, pivot=np.median) -> KDTree:\n",
       "     2        61       1214.0     19.9      0.0      X = np.asanyarray(X)\n",
       "     3        61        758.0     12.4      0.0      if isinstance(leaf_size, float):\n",
       "     4                                                   if 0 <= leaf_size <= 1:\n",
       "     5                                                       leaf_size = int(leaf_size * X.shape[0])\n",
       "     6                                                   else:\n",
       "     7                                                       raise ValueError('leaf_size must be between 0 and 1 when float')\n",
       "     8        61        835.0     13.7      0.0      if X.shape[0] < 2 * leaf_size:\n",
       "     9        31     217325.0   7010.5      4.6          bounds = np.vstack([X.min(axis=0, keepdims=True),\n",
       "    10        31     227206.0   7329.2      4.8                              X.max(axis=0, keepdims=True)])\n",
       "    11        31      58219.0   1878.0      1.2          centroid = X.mean(axis=0, keepdims=True)\n",
       "    12        31        733.0     23.6      0.0          return Leaf(bounds, centroid, X.shape[0])\n",
       "    13        30    2481340.0  82711.3     52.9      most_variant = X.var(axis=0).argmax()\n",
       "    14        30        480.0     16.0      0.0      feature = X[:, most_variant]\n",
       "    15        30     308559.0  10285.3      6.6      thr = pivot(feature)\n",
       "    16        30     751496.0  25049.9     16.0      left = X[feature < thr]\n",
       "    17        30     642185.0  21406.2     13.7      right = X[feature > thr]\n",
       "    18        30        364.0     12.1      0.0      return Node(\n",
       "    19        30        278.0      9.3      0.0          pivot_value=thr, pivot_feature=most_variant,\n",
       "    20        30        444.0     14.8      0.0          left=make_tree(left, leaf_size=leaf_size, pivot=pivot),\n",
       "    21        30        375.0     12.5      0.0          right=make_tree(right, leaf_size=leaf_size, pivot=pivot),\n",
       "    22                                               )"
      ]
     },
     "metadata": {},
     "output_type": "display_data"
    }
   ],
   "source": [
    "%lprun -f make_tree make_tree(X, leaf_size=25_000, pivot=threshold_otsu)"
   ]
  },
  {
   "cell_type": "markdown",
   "metadata": {},
   "source": [
    "# Speeding up..."
   ]
  },
  {
   "cell_type": "code",
   "execution_count": 21,
   "metadata": {},
   "outputs": [
    {
     "name": "stdout",
     "output_type": "stream",
     "text": [
      "12.7 ms ± 211 µs per loop (mean ± std. dev. of 7 runs, 100 loops each)\n"
     ]
    }
   ],
   "source": [
    "%timeit np.mean(X[:, 0])"
   ]
  },
  {
   "cell_type": "code",
   "execution_count": 22,
   "metadata": {},
   "outputs": [
    {
     "name": "stdout",
     "output_type": "stream",
     "text": [
      "11.5 ms ± 173 µs per loop (mean ± std. dev. of 7 runs, 100 loops each)\n"
     ]
    }
   ],
   "source": [
    "%timeit np.min(X[:, 0]) # estymata (max - min) / średnia"
   ]
  },
  {
   "cell_type": "code",
   "execution_count": 23,
   "metadata": {},
   "outputs": [
    {
     "name": "stdout",
     "output_type": "stream",
     "text": [
      "31.7 ms ± 855 µs per loop (mean ± std. dev. of 7 runs, 10 loops each)\n"
     ]
    }
   ],
   "source": [
    "%timeit np.var(X[:, 0])"
   ]
  },
  {
   "cell_type": "code",
   "execution_count": 24,
   "metadata": {},
   "outputs": [],
   "source": [
    "def _most_variant_and_thr_naive(X: np.ndarray):\n",
    "    mins = X.min(axis=0)\n",
    "    maxes = X.max(axis=0)\n",
    "    means = X.mean(axis=0)\n",
    "    idx = ((maxes - mins) / means).argmax()\n",
    "    return idx, means[idx]"
   ]
  },
  {
   "cell_type": "code",
   "execution_count": 25,
   "metadata": {},
   "outputs": [
    {
     "name": "stdout",
     "output_type": "stream",
     "text": [
      "416 ms ± 1.9 ms per loop (mean ± std. dev. of 7 runs, 1 loop each)\n"
     ]
    }
   ],
   "source": [
    "%timeit _most_variant_and_thr_naive(X)"
   ]
  },
  {
   "cell_type": "code",
   "execution_count": 57,
   "metadata": {},
   "outputs": [],
   "source": [
    "@njit(parallel=True, cache=True)\n",
    "def _most_variant_and_thr_manual(X: np.ndarray):\n",
    "    mins = np.copy(X[0])\n",
    "    maxes = np.copy(X[0])\n",
    "    means = np.copy(X[0])\n",
    "    for row in range(1, X.shape[0]):\n",
    "        for col in prange(X.shape[1]):\n",
    "            if X[row, col] < mins[col]:\n",
    "                mins[col] = X[row, col]\n",
    "            elif X[row, col] > maxes[col]:\n",
    "                maxes[col] = X[row, col]\n",
    "            means[col] += X[row, col] / X.shape[0]\n",
    "    ranges = maxes - mins\n",
    "    idx = (ranges / means).argmax()\n",
    "    return idx, means[idx]\n",
    "\n",
    "_most_variant_and_thr_manual(X)\n",
    "None"
   ]
  },
  {
   "cell_type": "code",
   "execution_count": 59,
   "metadata": {},
   "outputs": [
    {
     "name": "stdout",
     "output_type": "stream",
     "text": [
      "603 ms ± 4.32 ms per loop (mean ± std. dev. of 7 runs, 1 loop each)\n"
     ]
    }
   ],
   "source": [
    "%timeit _most_variant_and_thr_manual(X)"
   ]
  },
  {
   "cell_type": "code",
   "execution_count": 28,
   "metadata": {},
   "outputs": [],
   "source": [
    "class Leaf(NamedTuple):\n",
    "    centroid: np.ndarray\n",
    "    count: int = 0\n",
    "\n",
    "KDTree = Union['Node', Leaf]\n",
    "        \n",
    "class Node(NamedTuple):\n",
    "    left: KDTree = None\n",
    "    right: KDTree = None\n",
    "\n",
    "def make_tree(X, leaf_size: Union[int, float]=0.01) -> KDTree:\n",
    "    X = np.asanyarray(X)\n",
    "    if isinstance(leaf_size, float):\n",
    "        if 0 <= leaf_size <= 1:\n",
    "            leaf_size = max(int(leaf_size * X.shape[0]), 1)\n",
    "        else:\n",
    "            raise ValueError('leaf_size must be between 0 and 1 when float')\n",
    "    if X.shape[0] < 2 * leaf_size:\n",
    "        assert X.shape[0] > 0\n",
    "        centroid = X.mean(axis=0, keepdims=True)\n",
    "        assert not np.any(np.isnan(centroid))\n",
    "        return Leaf(centroid, X.shape[0])\n",
    "    most_variant, thr = _most_variant_and_thr_manual(X)\n",
    "    feature = X[:, most_variant]\n",
    "    left = X[feature < thr]\n",
    "    right = X[feature > thr]\n",
    "    return Node(\n",
    "        left=make_tree(left, leaf_size=leaf_size),\n",
    "        right=make_tree(right, leaf_size=leaf_size),\n",
    "    )"
   ]
  },
  {
   "cell_type": "code",
   "execution_count": 29,
   "metadata": {},
   "outputs": [
    {
     "name": "stdout",
     "output_type": "stream",
     "text": [
      "2.93 s ± 430 ms per loop (mean ± std. dev. of 7 runs, 1 loop each)\n"
     ]
    }
   ],
   "source": [
    "%timeit make_tree(X, leaf_size=25_000)"
   ]
  },
  {
   "cell_type": "code",
   "execution_count": 30,
   "metadata": {},
   "outputs": [
    {
     "data": {
      "text/plain": [
       "Timer unit: 1e-06 s\n",
       "\n",
       "Total time: 2.51347 s\n",
       "File: <ipython-input-28-5041b379c95f>\n",
       "Function: make_tree at line 11\n",
       "\n",
       "Line #      Hits         Time  Per Hit   % Time  Line Contents\n",
       "==============================================================\n",
       "    11                                           def make_tree(X, leaf_size: Union[int, float]=0.01) -> KDTree:\n",
       "    12        71       1470.0     20.7      0.1      X = np.asanyarray(X)\n",
       "    13        71        892.0     12.6      0.0      if isinstance(leaf_size, float):\n",
       "    14                                                   if 0 <= leaf_size <= 1:\n",
       "    15                                                       leaf_size = max(int(leaf_size * X.shape[0]), 1)\n",
       "    16                                                   else:\n",
       "    17                                                       raise ValueError('leaf_size must be between 0 and 1 when float')\n",
       "    18        71        813.0     11.5      0.0      if X.shape[0] < 2 * leaf_size:\n",
       "    19        36        481.0     13.4      0.0          assert X.shape[0] > 0\n",
       "    20        36      64630.0   1795.3      2.6          centroid = X.mean(axis=0, keepdims=True)\n",
       "    21        36       1944.0     54.0      0.1          assert not np.any(np.isnan(centroid))\n",
       "    22        36        578.0     16.1      0.0          return Leaf(centroid, X.shape[0])\n",
       "    23        35     925387.0  26439.6     36.8      most_variant, thr = _most_variant_and_thr_manual(X)\n",
       "    24        35        845.0     24.1      0.0      feature = X[:, most_variant]\n",
       "    25        35     764406.0  21840.2     30.4      left = X[feature < thr]\n",
       "    26        35     749472.0  21413.5     29.8      right = X[feature > thr]\n",
       "    27        35        414.0     11.8      0.0      return Node(\n",
       "    28        35        461.0     13.2      0.0          left=make_tree(left, leaf_size=leaf_size),\n",
       "    29        35       1673.0     47.8      0.1          right=make_tree(right, leaf_size=leaf_size),\n",
       "    30                                               )"
      ]
     },
     "metadata": {},
     "output_type": "display_data"
    }
   ],
   "source": [
    "%lprun -f make_tree make_tree(X, leaf_size=25_000)"
   ]
  },
  {
   "cell_type": "markdown",
   "metadata": {},
   "source": [
    "# Even simpler...\n",
    "\n",
    "But we already have informative features in most cases! That's why we do filtering upfront!"
   ]
  },
  {
   "cell_type": "code",
   "execution_count": 66,
   "metadata": {},
   "outputs": [],
   "source": [
    "def make_tree(X, leaf_size: Union[int, float]=0.01, feature_idx: int = 0) -> KDTree:\n",
    "    X = np.asanyarray(X)\n",
    "    if isinstance(leaf_size, float):\n",
    "        if 0 <= leaf_size <= 1:\n",
    "            leaf_size = max(int(leaf_size * X.shape[0]), 1)\n",
    "        else:\n",
    "            raise ValueError('leaf_size must be between 0 and 1 when float')\n",
    "    if X.shape[0] < 2 * leaf_size:\n",
    "        assert X.shape[0] > 0\n",
    "        centroid = X.mean(axis=0, keepdims=True)\n",
    "        assert not np.any(np.isnan(centroid))\n",
    "        return Leaf(centroid, X.shape[0])\n",
    "    feature = X[:, feature_idx]\n",
    "    thr = np.median(feature)\n",
    "    left = X[feature < thr]\n",
    "    right = X[feature > thr]\n",
    "    next_feature = (feature_idx + 1) % X.shape[1]\n",
    "    return Node(\n",
    "        left=make_tree(left, leaf_size=leaf_size, feature_idx=next_feature),\n",
    "        right=make_tree(right, leaf_size=leaf_size, feature_idx=next_feature),\n",
    "    )"
   ]
  },
  {
   "cell_type": "code",
   "execution_count": 67,
   "metadata": {},
   "outputs": [
    {
     "name": "stdout",
     "output_type": "stream",
     "text": [
      "1.91 s ± 105 ms per loop (mean ± std. dev. of 7 runs, 1 loop each)\n"
     ]
    }
   ],
   "source": [
    "%timeit make_tree(X, leaf_size=25_000)"
   ]
  },
  {
   "cell_type": "code",
   "execution_count": 68,
   "metadata": {},
   "outputs": [
    {
     "data": {
      "text/plain": [
       "Timer unit: 1e-06 s\n",
       "\n",
       "Total time: 1.69091 s\n",
       "File: <ipython-input-66-27abb7eb65bc>\n",
       "Function: make_tree at line 1\n",
       "\n",
       "Line #      Hits         Time  Per Hit   % Time  Line Contents\n",
       "==============================================================\n",
       "     1                                           def make_tree(X, leaf_size: Union[int, float]=0.01, feature_idx: int = 0) -> KDTree:\n",
       "     2        63       1205.0     19.1      0.1      X = np.asanyarray(X)\n",
       "     3        63        847.0     13.4      0.1      if isinstance(leaf_size, float):\n",
       "     4                                                   if 0 <= leaf_size <= 1:\n",
       "     5                                                       leaf_size = max(int(leaf_size * X.shape[0]), 1)\n",
       "     6                                                   else:\n",
       "     7                                                       raise ValueError('leaf_size must be between 0 and 1 when float')\n",
       "     8        63        931.0     14.8      0.1      if X.shape[0] < 2 * leaf_size:\n",
       "     9        32        296.0      9.2      0.0          assert X.shape[0] > 0\n",
       "    10        32      64212.0   2006.6      3.8          centroid = X.mean(axis=0, keepdims=True)\n",
       "    11        32       1667.0     52.1      0.1          assert not np.any(np.isnan(centroid))\n",
       "    12        32        705.0     22.0      0.0          return Leaf(centroid, X.shape[0])\n",
       "    13        31        452.0     14.6      0.0      feature = X[:, feature_idx]\n",
       "    14        31     179796.0   5799.9     10.6      thr = np.median(feature)\n",
       "    15        31     718716.0  23184.4     42.5      left = X[feature < thr]\n",
       "    16        31     720356.0  23237.3     42.6      right = X[feature > thr]\n",
       "    17        31        509.0     16.4      0.0      next_feature = feature_idx + 1 % X.shape[1]\n",
       "    18        31        330.0     10.6      0.0      return Node(\n",
       "    19        31        369.0     11.9      0.0          left=make_tree(left, leaf_size=leaf_size, feature_idx=next_feature),\n",
       "    20        31        515.0     16.6      0.0          right=make_tree(right, leaf_size=leaf_size, feature_idx=next_feature),\n",
       "    21                                               )"
      ]
     },
     "metadata": {},
     "output_type": "display_data"
    }
   ],
   "source": [
    "%lprun -f make_tree make_tree(X, leaf_size=25_000)"
   ]
  },
  {
   "cell_type": "markdown",
   "metadata": {},
   "source": [
    "Let's try mean as well:"
   ]
  },
  {
   "cell_type": "code",
   "execution_count": 69,
   "metadata": {},
   "outputs": [],
   "source": [
    "def make_tree(X, leaf_size: Union[int, float]=0.01, feature_idx: int = 0) -> KDTree:\n",
    "    X = np.asanyarray(X)\n",
    "    if isinstance(leaf_size, float):\n",
    "        if 0 <= leaf_size <= 1:\n",
    "            leaf_size = max(int(leaf_size * X.shape[0]), 1)\n",
    "        else:\n",
    "            raise ValueError('leaf_size must be between 0 and 1 when float')\n",
    "    if X.shape[0] < 2 * leaf_size:\n",
    "        assert X.shape[0] > 0\n",
    "        centroid = X.mean(axis=0, keepdims=True)\n",
    "        assert not np.any(np.isnan(centroid))\n",
    "        return Leaf(centroid, X.shape[0])\n",
    "    feature = X[:, feature_idx]\n",
    "    thr = np.mean(feature)\n",
    "    left = X[feature < thr]\n",
    "    right = X[feature > thr]\n",
    "    next_feature = feature_idx + 1 % X.shape[1]\n",
    "    return Node(\n",
    "        left=make_tree(left, leaf_size=leaf_size, feature_idx=next_feature),\n",
    "        right=make_tree(right, leaf_size=leaf_size, feature_idx=next_feature),\n",
    "    )"
   ]
  },
  {
   "cell_type": "code",
   "execution_count": 70,
   "metadata": {},
   "outputs": [
    {
     "name": "stdout",
     "output_type": "stream",
     "text": [
      "1.87 s ± 117 ms per loop (mean ± std. dev. of 7 runs, 1 loop each)\n"
     ]
    }
   ],
   "source": [
    "%timeit make_tree(X, leaf_size=25_000)"
   ]
  },
  {
   "cell_type": "code",
   "execution_count": 71,
   "metadata": {},
   "outputs": [
    {
     "data": {
      "text/plain": [
       "Timer unit: 1e-06 s\n",
       "\n",
       "Total time: 1.72621 s\n",
       "File: <ipython-input-69-f38e9b1880e3>\n",
       "Function: make_tree at line 1\n",
       "\n",
       "Line #      Hits         Time  Per Hit   % Time  Line Contents\n",
       "==============================================================\n",
       "     1                                           def make_tree(X, leaf_size: Union[int, float]=0.01, feature_idx: int = 0) -> KDTree:\n",
       "     2        61       1279.0     21.0      0.1      X = np.asanyarray(X)\n",
       "     3        61        946.0     15.5      0.1      if isinstance(leaf_size, float):\n",
       "     4                                                   if 0 <= leaf_size <= 1:\n",
       "     5                                                       leaf_size = max(int(leaf_size * X.shape[0]), 1)\n",
       "     6                                                   else:\n",
       "     7                                                       raise ValueError('leaf_size must be between 0 and 1 when float')\n",
       "     8        61        842.0     13.8      0.0      if X.shape[0] < 2 * leaf_size:\n",
       "     9        31        346.0     11.2      0.0          assert X.shape[0] > 0\n",
       "    10        31      71421.0   2303.9      4.1          centroid = X.mean(axis=0, keepdims=True)\n",
       "    11        31       3411.0    110.0      0.2          assert not np.any(np.isnan(centroid))\n",
       "    12        31        635.0     20.5      0.0          return Leaf(centroid, X.shape[0])\n",
       "    13        30        491.0     16.4      0.0      feature = X[:, feature_idx]\n",
       "    14        30      84438.0   2814.6      4.9      thr = np.mean(feature)\n",
       "    15        30     812982.0  27099.4     47.1      left = X[feature < thr]\n",
       "    16        30     747695.0  24923.2     43.3      right = X[feature > thr]\n",
       "    17        30        539.0     18.0      0.0      next_feature = feature_idx + 1 % X.shape[1]\n",
       "    18        30        340.0     11.3      0.0      return Node(\n",
       "    19        30        423.0     14.1      0.0          left=make_tree(left, leaf_size=leaf_size, feature_idx=next_feature),\n",
       "    20        30        426.0     14.2      0.0          right=make_tree(right, leaf_size=leaf_size, feature_idx=next_feature),\n",
       "    21                                               )"
      ]
     },
     "metadata": {},
     "output_type": "display_data"
    }
   ],
   "source": [
    "%lprun -f make_tree make_tree(X, leaf_size=25_000)"
   ]
  },
  {
   "cell_type": "markdown",
   "metadata": {},
   "source": [
    "# Beware!"
   ]
  },
  {
   "cell_type": "code",
   "execution_count": null,
   "metadata": {},
   "outputs": [],
   "source": [
    "@njit(parallel=True, cache=True)\n",
    "def _most_variant_and_thr_malicious(X: np.ndarray):\n",
    "    mins = np.copy(X[0])\n",
    "    maxes = np.copy(X[0])\n",
    "    means = np.copy(X[0])\n",
    "    for row in prange(1, X.shape[0]):\n",
    "        for col in range(X.shape[1]):\n",
    "            if X[row, col] < mins[col]:\n",
    "                mins[col] = X[row, col]\n",
    "            elif X[row, col] > maxes[col]:\n",
    "                maxes[col] = X[row, col]\n",
    "            means[col] += X[row, col] / X.shape[0]\n",
    "    ranges = maxes - mins\n",
    "    normalized_means = means - mins\n",
    "    idx = (ranges / normalized_means).argmax()\n",
    "    return idx, means[idx]\n",
    "\n",
    "_most_variant_and_thr_malicious(X)\n",
    "None"
   ]
  },
  {
   "cell_type": "code",
   "execution_count": null,
   "metadata": {},
   "outputs": [],
   "source": [
    "%timeit _most_variant_and_thr_malicious(X)"
   ]
  },
  {
   "cell_type": "code",
   "execution_count": null,
   "metadata": {},
   "outputs": [],
   "source": [
    "def make_tree(X, leaf_size: Union[int, float]=0.01) -> KDTree:\n",
    "    X = np.asanyarray(X)\n",
    "    if isinstance(leaf_size, float):\n",
    "        if 0 <= leaf_size <= 1:\n",
    "            leaf_size = max(int(leaf_size * X.shape[0]), 1)\n",
    "        else:\n",
    "            raise ValueError('leaf_size must be between 0 and 1 when float')\n",
    "    if X.shape[0] < 2 * leaf_size:\n",
    "        assert X.shape[0] > 0\n",
    "        centroid = X.mean(axis=0, keepdims=True)\n",
    "        assert not np.any(np.isnan(centroid))\n",
    "        return Leaf(centroid, X.shape[0])\n",
    "    most_variant, thr = _most_variant_and_thr_malicious(X)\n",
    "    feature = X[:, most_variant]\n",
    "    left = X[feature < thr]\n",
    "    right = X[feature > thr]\n",
    "    return Node(\n",
    "        left=make_tree(left, leaf_size=leaf_size),\n",
    "        right=make_tree(right, leaf_size=leaf_size),\n",
    "    )"
   ]
  },
  {
   "cell_type": "code",
   "execution_count": null,
   "metadata": {},
   "outputs": [],
   "source": [
    "%timeit make_tree(X, leaf_size=250_000)"
   ]
  },
  {
   "cell_type": "code",
   "execution_count": null,
   "metadata": {},
   "outputs": [],
   "source": [
    "%lprun -f make_tree make_tree(X, leaf_size=250_000)"
   ]
  }
 ],
 "metadata": {
  "kernelspec": {
   "display_name": "Python 3",
   "language": "python",
   "name": "python3"
  },
  "language_info": {
   "codemirror_mode": {
    "name": "ipython",
    "version": 3
   },
   "file_extension": ".py",
   "mimetype": "text/x-python",
   "name": "python",
   "nbconvert_exporter": "python",
   "pygments_lexer": "ipython3",
   "version": "3.7.6"
  }
 },
 "nbformat": 4,
 "nbformat_minor": 4
}
